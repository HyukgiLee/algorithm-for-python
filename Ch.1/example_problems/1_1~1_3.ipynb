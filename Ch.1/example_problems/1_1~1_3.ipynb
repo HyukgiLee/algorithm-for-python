{
 "cells": [
  {
   "cell_type": "markdown",
   "id": "c709275f",
   "metadata": {},
   "source": [
    "### 1.1"
   ]
  },
  {
   "cell_type": "code",
   "execution_count": 2,
   "id": "ca84bbd4",
   "metadata": {},
   "outputs": [
    {
     "name": "stdout",
     "output_type": "stream",
     "text": [
      "385\n"
     ]
    }
   ],
   "source": [
    "# The program calculates sum of squares from 1 to n \n",
    "# input : target number n (int)\n",
    "# output : sum of squares from 1 to n (int)\n",
    "\n",
    "def total_sum_squares(n):\n",
    "    return sum(i**2 for i in range(1,n+1))\n",
    "\n",
    "print(total_sum_squares(10))"
   ]
  },
  {
   "cell_type": "markdown",
   "id": "038b64ad",
   "metadata": {},
   "source": [
    "### 1.2"
   ]
  },
  {
   "cell_type": "markdown",
   "id": "5e0d4a25",
   "metadata": {},
   "source": [
    "What is the time complexity of the program 1.1?\n",
    "\n",
    "--> O(n)"
   ]
  },
  {
   "cell_type": "markdown",
   "id": "6d352cb2",
   "metadata": {},
   "source": [
    "### 1.3"
   ]
  },
  {
   "cell_type": "markdown",
   "id": "02bb11c9",
   "metadata": {},
   "source": [
    "The equation for finding the sum of square from 1 to n is \n",
    "n * (n+1) * (2n+1) / 6\n",
    "what is the time complexity of the function based on this equation?\n",
    "\n",
    "--> O(1)"
   ]
  },
  {
   "cell_type": "code",
   "execution_count": null,
   "id": "a6bc469c",
   "metadata": {},
   "outputs": [],
   "source": []
  }
 ],
 "metadata": {
  "kernelspec": {
   "display_name": "Python 3",
   "language": "python",
   "name": "python3"
  },
  "language_info": {
   "codemirror_mode": {
    "name": "ipython",
    "version": 3
   },
   "file_extension": ".py",
   "mimetype": "text/x-python",
   "name": "python",
   "nbconvert_exporter": "python",
   "pygments_lexer": "ipython3",
   "version": "3.11.9"
  }
 },
 "nbformat": 4,
 "nbformat_minor": 5
}
