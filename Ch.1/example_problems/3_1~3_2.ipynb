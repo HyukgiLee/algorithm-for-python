{
 "cells": [
  {
   "cell_type": "markdown",
   "id": "633354d4",
   "metadata": {},
   "source": [
    "### 3-1"
   ]
  },
  {
   "cell_type": "code",
   "execution_count": 5,
   "id": "4c00b175",
   "metadata": {},
   "outputs": [
    {
     "name": "stdout",
     "output_type": "stream",
     "text": [
      "Tom - Jerry\n",
      "Tom - Mike\n",
      "Jerry - Mike\n"
     ]
    }
   ],
   "source": [
    "# Create a program that shows all the possible pairs of names(orders doesn't matter)\n",
    "\n",
    "# This program generates all possible pair of names from given list of names\n",
    "# input : list of names\n",
    "# output : none (prints each pair of names)\n",
    "\n",
    "def pair_names(name_list):\n",
    "    n = len(name_list)\n",
    "    for i in range(0,n-1):\n",
    "        for j in range(i+1,n):\n",
    "            print(f'{name_list[i]} - {name_list[j]}')\n",
    "\n",
    "\n",
    "v = ['Tom','Jerry','Mike']\n",
    "pair_names(v)"
   ]
  },
  {
   "cell_type": "markdown",
   "id": "77e31c62",
   "metadata": {},
   "source": [
    "### 3-2"
   ]
  },
  {
   "cell_type": "markdown",
   "id": "2d5bb097",
   "metadata": {},
   "source": [
    " Express each equation with big O notation\n",
    "\n",
    " A 65536<br>\n",
    " B n-1<br>\n",
    " C 2n^2 / 3 + 10000n<br>\n",
    " D 3n^4 - 4n^3 + 5n^2 - 6n +7<br>\n"
   ]
  },
  {
   "cell_type": "markdown",
   "id": "067c883d",
   "metadata": {},
   "source": [
    " A O(1)<br>\n",
    " B O(n)<br>\n",
    " C O(n^2)<br>\n",
    " D O(n^4)<br>"
   ]
  },
  {
   "cell_type": "markdown",
   "id": "7f5a93ff",
   "metadata": {},
   "source": []
  }
 ],
 "metadata": {
  "kernelspec": {
   "display_name": "Python 3",
   "language": "python",
   "name": "python3"
  },
  "language_info": {
   "codemirror_mode": {
    "name": "ipython",
    "version": 3
   },
   "file_extension": ".py",
   "mimetype": "text/x-python",
   "name": "python",
   "nbconvert_exporter": "python",
   "pygments_lexer": "ipython3",
   "version": "3.11.9"
  }
 },
 "nbformat": 4,
 "nbformat_minor": 5
}
